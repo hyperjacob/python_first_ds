{
 "cells": [
  {
   "cell_type": "markdown",
   "id": "6946138f",
   "metadata": {},
   "source": [
    "## ** Задание на повторение материала\n",
    "\n",
    "#### Создать одномерный массив Numpy под названием a из 12 последовательных целых чисел чисел от 12 до 24 невключительно\n"
   ]
  },
  {
   "cell_type": "code",
   "execution_count": 1,
   "id": "f8b2c545",
   "metadata": {},
   "outputs": [],
   "source": [
    "import numpy as np"
   ]
  },
  {
   "cell_type": "code",
   "execution_count": 4,
   "id": "d2778dc6",
   "metadata": {},
   "outputs": [
    {
     "data": {
      "text/plain": [
       "array([12, 13, 14, 15, 16, 17, 18, 19, 20, 21, 22, 23])"
      ]
     },
     "execution_count": 4,
     "metadata": {},
     "output_type": "execute_result"
    }
   ],
   "source": [
    "a = np.arange(12,24)\n",
    "a"
   ]
  },
  {
   "cell_type": "markdown",
   "id": "5b3a65f1",
   "metadata": {},
   "source": [
    "#### Создать 5 двумерных массивов разной формы из массива a. Не использовать в аргументах метода reshape число -1.\n"
   ]
  },
  {
   "cell_type": "code",
   "execution_count": 11,
   "id": "fbff9761",
   "metadata": {},
   "outputs": [],
   "source": [
    "a1 = a.reshape(3, 4)\n",
    "a2 = a.reshape(4, 3)\n",
    "a3 = a.reshape(6, 2)\n",
    "a4 = a.reshape(2, 6)\n",
    "a5 = a.reshape(12, 1)"
   ]
  },
  {
   "cell_type": "markdown",
   "id": "2b752951",
   "metadata": {},
   "source": [
    "#### Создать 5 двумерных массивов разной формы из массива a. Использовать в аргументах метода reshape число -1 (в трех примерах - для обозначения числа столбцов, в двух - для строк).\n"
   ]
  },
  {
   "cell_type": "code",
   "execution_count": 12,
   "id": "4de03fb2",
   "metadata": {},
   "outputs": [],
   "source": [
    "a1 = a.reshape(-1, 4)\n",
    "a2 = a.reshape(-1, 3)\n",
    "a3 = a.reshape(-1, 2)\n",
    "a4 = a.reshape(2, -1)\n",
    "a5 = a.reshape(12, -1)"
   ]
  },
  {
   "cell_type": "code",
   "execution_count": 16,
   "id": "e533dbed",
   "metadata": {},
   "outputs": [
    {
     "data": {
      "text/plain": [
       "2"
      ]
     },
     "execution_count": 16,
     "metadata": {},
     "output_type": "execute_result"
    }
   ],
   "source": [
    "a5.ndim"
   ]
  },
  {
   "cell_type": "markdown",
   "id": "1d2f438b",
   "metadata": {},
   "source": [
    "#### Можно ли массив Numpy, состоящий из одного столбца и 12 строк, назвать одномерным?\n"
   ]
  },
  {
   "cell_type": "markdown",
   "id": "1eff278e",
   "metadata": {},
   "source": [
    "Нет, так как каждый элемент такого массива - тоже массив"
   ]
  },
  {
   "cell_type": "code",
   "execution_count": 17,
   "id": "6f0847a3",
   "metadata": {},
   "outputs": [
    {
     "data": {
      "text/plain": [
       "2"
      ]
     },
     "execution_count": 17,
     "metadata": {},
     "output_type": "execute_result"
    }
   ],
   "source": [
    "a5.ndim"
   ]
  },
  {
   "cell_type": "markdown",
   "id": "860ac48e",
   "metadata": {},
   "source": [
    "#### Создать массив из 3 строк и 4 столбцов, состоящий из случайных чисел с плавающей запятой из нормального распределения со средним, равным 0 и среднеквадратичным отклонением, равным 1.0. Получить из этого массива одномерный массив с таким же атрибутом size, как и исходный массив.\n"
   ]
  },
  {
   "cell_type": "code",
   "execution_count": 33,
   "id": "35607d07",
   "metadata": {},
   "outputs": [],
   "source": [
    "b = np.random.randn(3, 4)"
   ]
  },
  {
   "cell_type": "code",
   "execution_count": 20,
   "id": "af55d3be",
   "metadata": {},
   "outputs": [
    {
     "data": {
      "text/plain": [
       "12"
      ]
     },
     "execution_count": 20,
     "metadata": {},
     "output_type": "execute_result"
    }
   ],
   "source": [
    "b.size"
   ]
  },
  {
   "cell_type": "code",
   "execution_count": 26,
   "id": "07a2faec",
   "metadata": {},
   "outputs": [],
   "source": [
    "c = b.flatten()"
   ]
  },
  {
   "cell_type": "code",
   "execution_count": 23,
   "id": "3abbc5b4",
   "metadata": {},
   "outputs": [
    {
     "data": {
      "text/plain": [
       "12"
      ]
     },
     "execution_count": 23,
     "metadata": {},
     "output_type": "execute_result"
    }
   ],
   "source": [
    "c.size"
   ]
  },
  {
   "cell_type": "markdown",
   "id": "9111fa1a",
   "metadata": {},
   "source": [
    "#### Создать массив a, состоящий из целых чисел, убывающих от 20 до 0 невключительно с интервалом 2.\n"
   ]
  },
  {
   "cell_type": "code",
   "execution_count": 31,
   "id": "d10cc1f6",
   "metadata": {},
   "outputs": [
    {
     "data": {
      "text/plain": [
       "array([20, 18, 16, 14, 12, 10,  8,  6,  4,  2])"
      ]
     },
     "execution_count": 31,
     "metadata": {},
     "output_type": "execute_result"
    }
   ],
   "source": [
    "a = np.arange(20, 0, -2)\n",
    "a"
   ]
  },
  {
   "cell_type": "markdown",
   "id": "a0568591",
   "metadata": {},
   "source": [
    "#### Создать массив b, состоящий из 1 строки и 10 столбцов: целых чисел, убывающих от 20 до 1 невключительно с интервалом 2. В чем разница между массивами a и b?\n"
   ]
  },
  {
   "cell_type": "code",
   "execution_count": 36,
   "id": "78f0b7b3",
   "metadata": {},
   "outputs": [
    {
     "data": {
      "text/plain": [
       "array([[20, 18, 16, 14, 12, 10,  8,  6,  4,  2]])"
      ]
     },
     "execution_count": 36,
     "metadata": {},
     "output_type": "execute_result"
    }
   ],
   "source": [
    "b = np.arange(20, 1, -2).reshape(1, 10)\n",
    "b"
   ]
  },
  {
   "cell_type": "markdown",
   "id": "59df9b67",
   "metadata": {},
   "source": [
    "разница только в том, что во 2м случае у нас двумерный массив (массив в массиве)"
   ]
  },
  {
   "cell_type": "markdown",
   "id": "4b707c2c",
   "metadata": {},
   "source": [
    "#### Вертикально соединить массивы a и b. a - двумерный массив из нулей, число строк которого больше 1 и на 1 меньше, чем число строк двумерного массива b, состоящего из единиц. Итоговый массив v должен иметь атрибут size, равный 10.\n"
   ]
  },
  {
   "cell_type": "code",
   "execution_count": 41,
   "id": "dcdf3425",
   "metadata": {},
   "outputs": [
    {
     "data": {
      "text/plain": [
       "10"
      ]
     },
     "execution_count": 41,
     "metadata": {},
     "output_type": "execute_result"
    }
   ],
   "source": [
    "a = np.zeros((2, 2))\n",
    "b = np.ones((3, 2))\n",
    "v = np.concatenate((a, b), axis = 0)\n",
    "v.size"
   ]
  },
  {
   "cell_type": "markdown",
   "id": "22096f95",
   "metadata": {},
   "source": [
    "#### Создать одномерный массив а, состоящий из последовательности целых чисел от 0 до 12. Поменять форму этого массива, чтобы получилась матрица A (двумерный массив Numpy), состоящая из 4 строк и 3 столбцов. Получить матрицу At путем транспонирования матрицы A. Получить матрицу B, умножив матрицу A на матрицу At с помощью матричного умножения. Какой размер имеет матрица B? Получится ли вычислить обратную матрицу для матрицы B и почему?"
   ]
  },
  {
   "cell_type": "code",
   "execution_count": 45,
   "id": "d9895317",
   "metadata": {},
   "outputs": [
    {
     "data": {
      "text/plain": [
       "array([ 0,  1,  2,  3,  4,  5,  6,  7,  8,  9, 10, 11])"
      ]
     },
     "execution_count": 45,
     "metadata": {},
     "output_type": "execute_result"
    }
   ],
   "source": [
    "a = np.arange(0,12)\n",
    "a"
   ]
  },
  {
   "cell_type": "code",
   "execution_count": 50,
   "id": "25aaaa80",
   "metadata": {},
   "outputs": [
    {
     "name": "stdout",
     "output_type": "stream",
     "text": [
      "[[ 0  1  2]\n",
      " [ 3  4  5]\n",
      " [ 6  7  8]\n",
      " [ 9 10 11]]\n"
     ]
    }
   ],
   "source": [
    "A = a.reshape(4,3)\n",
    "print(A)"
   ]
  },
  {
   "cell_type": "code",
   "execution_count": 52,
   "id": "3928ead1",
   "metadata": {},
   "outputs": [
    {
     "name": "stdout",
     "output_type": "stream",
     "text": [
      "[[ 0  3  6  9]\n",
      " [ 1  4  7 10]\n",
      " [ 2  5  8 11]]\n"
     ]
    }
   ],
   "source": [
    "At = A.T\n",
    "print(At)"
   ]
  },
  {
   "cell_type": "code",
   "execution_count": 53,
   "id": "76d7533e",
   "metadata": {},
   "outputs": [
    {
     "name": "stdout",
     "output_type": "stream",
     "text": [
      "[[  5  14  23  32]\n",
      " [ 14  50  86 122]\n",
      " [ 23  86 149 212]\n",
      " [ 32 122 212 302]]\n"
     ]
    }
   ],
   "source": [
    "B = A.dot(At)\n",
    "print(B)"
   ]
  },
  {
   "cell_type": "code",
   "execution_count": 54,
   "id": "10dd16c3",
   "metadata": {},
   "outputs": [
    {
     "data": {
      "text/plain": [
       "16"
      ]
     },
     "execution_count": 54,
     "metadata": {},
     "output_type": "execute_result"
    }
   ],
   "source": [
    "B.size"
   ]
  },
  {
   "cell_type": "code",
   "execution_count": 56,
   "id": "ec310cdf",
   "metadata": {},
   "outputs": [
    {
     "data": {
      "text/plain": [
       "0.0"
      ]
     },
     "execution_count": 56,
     "metadata": {},
     "output_type": "execute_result"
    }
   ],
   "source": [
    "np.linalg.det(B)"
   ]
  },
  {
   "cell_type": "markdown",
   "id": "7412f3eb",
   "metadata": {},
   "source": [
    "Определитель матрицы равен нулю, значит вычислить обратную матрицу для матрицы B нельзя"
   ]
  },
  {
   "cell_type": "markdown",
   "id": "f68c9d0b",
   "metadata": {},
   "source": [
    "#### Инициализируйте генератор случайных числе с помощью объекта seed, равного 42."
   ]
  },
  {
   "cell_type": "code",
   "execution_count": 63,
   "id": "607fb310",
   "metadata": {},
   "outputs": [],
   "source": [
    "np.random.seed(42)"
   ]
  },
  {
   "cell_type": "markdown",
   "id": "2167320a",
   "metadata": {},
   "source": [
    "#### Создайте одномерный массив c, составленный из последовательности 16-ти случайных равномерно распределенных целых чисел от 0 до 16 невключительно."
   ]
  },
  {
   "cell_type": "code",
   "execution_count": 67,
   "id": "6fd22b42",
   "metadata": {},
   "outputs": [
    {
     "name": "stdout",
     "output_type": "stream",
     "text": [
      "[ 7  2  5  4  1  7 11 13  5  1 15 11  4  0 11  9]\n"
     ]
    }
   ],
   "source": [
    "c = np.random.randint(0, 16, (16))\n",
    "print(c)"
   ]
  },
  {
   "cell_type": "markdown",
   "id": "af56c65e",
   "metadata": {},
   "source": [
    "#### Поменяйте его форму так, чтобы получилась квадратная матрица C. Получите матрицу D, поэлементно прибавив матрицу B из предыдущего вопроса к матрице C, умноженной на 10. Вычислите определитель, ранг и обратную матрицу D_inv для D.\n"
   ]
  },
  {
   "cell_type": "code",
   "execution_count": 73,
   "id": "60df9ff0",
   "metadata": {},
   "outputs": [
    {
     "name": "stdout",
     "output_type": "stream",
     "text": [
      "[[ 7  2  5  4]\n",
      " [ 1  7 11 13]\n",
      " [ 5  1 15 11]\n",
      " [ 4  0 11  9]]\n"
     ]
    }
   ],
   "source": [
    "C = c.reshape(4, 4)\n",
    "print(C)"
   ]
  },
  {
   "cell_type": "code",
   "execution_count": 75,
   "id": "f1a25329",
   "metadata": {},
   "outputs": [
    {
     "name": "stdout",
     "output_type": "stream",
     "text": [
      "[[ 75  34  73  72]\n",
      " [ 24 120 196 252]\n",
      " [ 73  96 299 322]\n",
      " [ 72 122 322 392]]\n"
     ]
    }
   ],
   "source": [
    "D = C * 10 + B\n",
    "print(D)"
   ]
  },
  {
   "cell_type": "code",
   "execution_count": 76,
   "id": "1d192eed",
   "metadata": {},
   "outputs": [
    {
     "data": {
      "text/plain": [
       "33790400.00000005"
      ]
     },
     "execution_count": 76,
     "metadata": {},
     "output_type": "execute_result"
    }
   ],
   "source": [
    "np.linalg.det(D)"
   ]
  },
  {
   "cell_type": "code",
   "execution_count": 77,
   "id": "c829c88b",
   "metadata": {},
   "outputs": [
    {
     "data": {
      "text/plain": [
       "4"
      ]
     },
     "execution_count": 77,
     "metadata": {},
     "output_type": "execute_result"
    }
   ],
   "source": [
    "np.linalg.matrix_rank(D)"
   ]
  },
  {
   "cell_type": "code",
   "execution_count": 79,
   "id": "5ef5f5bc",
   "metadata": {},
   "outputs": [
    {
     "name": "stdout",
     "output_type": "stream",
     "text": [
      "[[ 0.01610043 -0.00531689 -0.00816208  0.00716535]\n",
      " [ 0.00715114  0.02249692  0.00430063 -0.01930844]\n",
      " [-0.0055933   0.00488364  0.03278919 -0.02904612]\n",
      " [-0.00058833 -0.01003658 -0.02677328  0.03110351]]\n"
     ]
    }
   ],
   "source": [
    "D_inv = np.linalg.inv(D)\n",
    "print(D_inv)"
   ]
  },
  {
   "cell_type": "markdown",
   "id": "c5e1aba1",
   "metadata": {},
   "source": [
    "#### Приравняйте к нулю отрицательные числа в матрице D_inv, а положительные - к единице. Убедитесь, что в матрице D_inv остались только нули и единицы. С помощью функции numpy.where, используя матрицу D_inv в качестве маски, а матрицы B и C - в качестве источников данных, получите матрицу E размером 4x4.  Элементы матрицы E, для которых соответствующий элемент матрицы D_inv равен 1, должны быть равны соответствующему элементу матрицы B, а элементы матрицы E, для которых соответствующий элемент матрицы D_inv равен 0, должны быть равны соответствующему элементу матрицы C"
   ]
  },
  {
   "cell_type": "code",
   "execution_count": 85,
   "id": "41a71a44",
   "metadata": {},
   "outputs": [
    {
     "name": "stdout",
     "output_type": "stream",
     "text": [
      "[[1. 0. 0. 1.]\n",
      " [1. 1. 1. 0.]\n",
      " [0. 1. 1. 0.]\n",
      " [0. 0. 0. 1.]]\n"
     ]
    }
   ],
   "source": [
    "D_inv[D_inv > 0] = 1\n",
    "D_inv[D_inv < 0] = 0\n",
    "print(D_inv)"
   ]
  },
  {
   "cell_type": "code",
   "execution_count": 83,
   "id": "80532b99",
   "metadata": {},
   "outputs": [],
   "source": [
    "ind = np.where(D_inv)"
   ]
  },
  {
   "cell_type": "code",
   "execution_count": 99,
   "id": "68e871b1",
   "metadata": {},
   "outputs": [
    {
     "data": {
      "text/plain": [
       "array([[ 7,  2,  5,  4],\n",
       "       [ 1,  7, 11, 13],\n",
       "       [ 5,  1, 15, 11],\n",
       "       [ 4,  0, 11,  9]])"
      ]
     },
     "execution_count": 99,
     "metadata": {},
     "output_type": "execute_result"
    }
   ],
   "source": [
    "E = C.copy()\n"
   ]
  },
  {
   "cell_type": "code",
   "execution_count": 102,
   "id": "2f76efb1",
   "metadata": {},
   "outputs": [
    {
     "name": "stdout",
     "output_type": "stream",
     "text": [
      "[[  5   2   5  32]\n",
      " [ 14  50  86  13]\n",
      " [  5  86 149  11]\n",
      " [  4   0  11 302]]\n"
     ]
    }
   ],
   "source": [
    "E[ind] = B[ind]\n",
    "print(E)"
   ]
  },
  {
   "cell_type": "code",
   "execution_count": null,
   "id": "e0cfe63f",
   "metadata": {},
   "outputs": [],
   "source": []
  }
 ],
 "metadata": {
  "kernelspec": {
   "display_name": "Python 3 (ipykernel)",
   "language": "python",
   "name": "python3"
  },
  "language_info": {
   "codemirror_mode": {
    "name": "ipython",
    "version": 3
   },
   "file_extension": ".py",
   "mimetype": "text/x-python",
   "name": "python",
   "nbconvert_exporter": "python",
   "pygments_lexer": "ipython3",
   "version": "3.9.12"
  }
 },
 "nbformat": 4,
 "nbformat_minor": 5
}
